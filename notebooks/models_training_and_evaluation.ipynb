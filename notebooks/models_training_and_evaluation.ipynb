{
 "cells": [
  {
   "cell_type": "code",
   "execution_count": 1,
   "id": "11588fe3-cefe-4770-8569-5fadfd7cf7b6",
   "metadata": {},
   "outputs": [],
   "source": [
    "import pandas as pd\n",
    "import numpy as np\n",
    "import warnings\n",
    "from sklearn.feature_extraction.text import CountVectorizer\n",
    "from sklearn.feature_extraction.text import TfidfVectorizer\n",
    "from sklearn.model_selection import train_test_split\n",
    "from sklearn.naive_bayes import BernoulliNB, ComplementNB, CategoricalNB\n",
    "from sklearn import metrics, svm\n",
    "from sklearn.linear_model import LogisticRegression\n",
    "from sklearn.preprocessing import StandardScaler\n",
    "import joblib\n",
    "import matplotlib.pyplot as plt\n",
    "import seaborn as sns"
   ]
  },
  {
   "cell_type": "code",
   "execution_count": 2,
   "id": "9c447950-3597-4695-9ee7-4cd70232081a",
   "metadata": {},
   "outputs": [
    {
     "data": {
      "text/plain": [
       "Index(['Unnamed: 0', 'review', 'sentiment', 'number_of_chars',\n",
       "       'percentage_of_signs', 'number_of_excl_marks',\n",
       "       'number_of_question_marks', 'number_of_ellipses',\n",
       "       'number_of_uppercase_words', 'cleaned_review', 'tokenized_review',\n",
       "       'lemmatized_review', 'stemmed_review'],\n",
       "      dtype='object')"
      ]
     },
     "execution_count": 2,
     "metadata": {},
     "output_type": "execute_result"
    }
   ],
   "source": [
    "train_df = pd.read_csv('../data/processed/processed_train.csv')\n",
    "test_df = pd.read_csv('../data/processed/processed_test.csv')\n",
    "\n",
    "general_df = pd.concat([train_df, test_df], ignore_index=True)\n",
    "general_df.columns"
   ]
  },
  {
   "cell_type": "code",
   "execution_count": 3,
   "id": "6888473f-ce31-4910-b9c1-dc4b9b930873",
   "metadata": {},
   "outputs": [
    {
     "data": {
      "text/plain": [
       "(45999, 36770, 9229)"
      ]
     },
     "execution_count": 3,
     "metadata": {},
     "output_type": "execute_result"
    }
   ],
   "source": [
    "len(general_df), len(train_df), len(test_df)"
   ]
  },
  {
   "cell_type": "code",
   "execution_count": 4,
   "id": "97ace2be-9d14-4555-aacf-70acc4b6c091",
   "metadata": {},
   "outputs": [],
   "source": [
    "def vectorize_review(\n",
    "        df: pd.DataFrame,\n",
    "        processed_text_col_name: str,\n",
    "        train_df_len: int,\n",
    "        vectorizer\n",
    "):\n",
    "    vectorized_data = vectorizer.fit_transform(df[processed_text_col_name])\n",
    "    return train_test_split(\n",
    "        vectorized_data,\n",
    "        df['sentiment'],\n",
    "        test_size=train_df_len,\n",
    "        shuffle=False\n",
    "    )\n",
    "\n",
    "\n",
    "def train_model(\n",
    "        X_train,\n",
    "        Y_train,\n",
    "        classifier\n",
    "):\n",
    "    classifier.fit(X_train, Y_train)\n",
    "    joblib.dump(classifier, f'../outputs/models/{classifier.__class__.__name__}.pkl')\n",
    "    return classifier\n",
    "\n",
    "\n",
    "def test_model(\n",
    "    X_test,\n",
    "    Y_test,\n",
    "    classifier\n",
    "):\n",
    "    predicted = classifier.predict(X_test)\n",
    "    accuracy_score = metrics.accuracy_score(predicted, Y_test)\n",
    "    cf_matrix = metrics.confusion_matrix(Y_test, predicted)\n",
    "    classification_report = metrics.classification_report(Y_test, predicted)\n",
    "\n",
    "    models_evaluation_metrics = \"\"\n",
    "    models_evaluation_metrics += f'ComplementNB model accuracy is {round(accuracy_score * 100, 2)}%'\n",
    "    models_evaluation_metrics += '\\n------------------------------------------------\\n'\n",
    "    models_evaluation_metrics += 'Confusion Matrix:\\n'\n",
    "    models_evaluation_metrics += str(pd.DataFrame(cf_matrix))\n",
    "    models_evaluation_metrics += '\\n------------------------------------------------\\n'\n",
    "    models_evaluation_metrics += 'Classification Report:\\n'\n",
    "    models_evaluation_metrics += str(classification_report)\n",
    "\n",
    "    print(models_evaluation_metrics)\n",
    "\n",
    "    with open(f\"../outputs/predictions/{classifier.__class__.__name__}_metrics.txt\", 'w') as f:\n",
    "        f.write(models_evaluation_metrics)\n",
    "\n",
    "    predicted_df = test_df\n",
    "    predicted_df['predicted_sentiment'] = pd.Series(predicted)\n",
    "    predicted_df.to_csv(f\"../outputs/predictions/{classifier.__class__.__name__}_predictions.csv\")\n",
    "\n",
    "    return accuracy_score, cf_matrix, classification_report"
   ]
  },
  {
   "cell_type": "markdown",
   "id": "0f53df14-fba5-4fbf-85cf-b3473d6fd08e",
   "metadata": {},
   "source": [
    "# Vectorization.\n",
    "\n",
    "We have prepared two versions of vectorized text: using Count and TF-IDF vectorizer."
   ]
  },
  {
   "cell_type": "code",
   "execution_count": 5,
   "id": "44925c9f-1fef-43ee-a910-753595ea58b9",
   "metadata": {},
   "outputs": [],
   "source": [
    "count_vectorizer = CountVectorizer()\n",
    "count_X_train, count_X_test, count_y_train, count_y_test = vectorize_review(\n",
    "    df=general_df,\n",
    "    processed_text_col_name='stemmed_review',\n",
    "    train_df_len=len(train_df),\n",
    "    vectorizer=count_vectorizer\n",
    ")\n",
    "\n",
    "tfidf_vectorizer = TfidfVectorizer()\n",
    "tfidf_X_train, tfidf_X_test, tfidf_y_train, tfidf_y_test = vectorize_review(\n",
    "    df=general_df,\n",
    "    processed_text_col_name='stemmed_review',\n",
    "    train_df_len=len(train_df),\n",
    "    vectorizer=tfidf_vectorizer\n",
    ")"
   ]
  },
  {
   "cell_type": "markdown",
   "id": "187a8605-cba6-4ae9-9c77-78c17a9d96ad",
   "metadata": {},
   "source": [
    "# Models training."
   ]
  },
  {
   "cell_type": "markdown",
   "id": "8748fe79-6e43-412b-9b1c-ac8d0b86b119",
   "metadata": {},
   "source": [
    "## Bernoulli Naive Bayes.\n",
    "\n",
    "Bernoulli Naive Bayes is a variant of Naive Bayes that is particularly suited for binary/boolean features. The model is based on the Bayes Theorem and assumes that all features are independent given the class. In text classification, this model is typically used with binary feature vectors (rather than counts or TF-IDF features) which indicate the presence or absence of a word. For sentiment analysis, each word in the vocabulary is treated as a feature and it contributes independently to the probability that the sentiment is positive or negative.\n",
    "\n",
    "*Advantages*:\n",
    "- **Handling of Binary Data**: It works well with binary feature models which are common in text processing where presence or absence of words is a useful feature.\n",
    "- **Scalability and Speed**: The independence assumption simplifies computation, making this model very efficient and scalable to large datasets.\n",
    "- **Performance**: Despite its simplicity and the strong independence assumption, Bernoulli Naive Bayes can perform surprisingly well on sentiment analysis tasks, especially when the dataset is large."
   ]
  },
  {
   "cell_type": "code",
   "execution_count": 6,
   "id": "e1451251-94b3-4925-84b5-2ef92c98fbb2",
   "metadata": {},
   "outputs": [
    {
     "name": "stdout",
     "output_type": "stream",
     "text": [
      "ComplementNB model accuracy is 85.13%\n",
      "------------------------------------------------\n",
      "Confusion Matrix:\n",
      "       0      1\n",
      "0  16040   2402\n",
      "1   3065  15263\n",
      "------------------------------------------------\n",
      "Classification Report:\n",
      "              precision    recall  f1-score   support\n",
      "\n",
      "    negative       0.84      0.87      0.85     18442\n",
      "    positive       0.86      0.83      0.85     18328\n",
      "\n",
      "    accuracy                           0.85     36770\n",
      "   macro avg       0.85      0.85      0.85     36770\n",
      "weighted avg       0.85      0.85      0.85     36770\n",
      "\n"
     ]
    }
   ],
   "source": [
    "BNB = BernoulliNB()\n",
    "bernoulli_nb = train_model(\n",
    "    tfidf_X_train, \n",
    "    tfidf_y_train, \n",
    "    BNB\n",
    ")\n",
    "\n",
    "bernoulli_res = test_model(\n",
    "    tfidf_X_test,\n",
    "    tfidf_y_test,\n",
    "    bernoulli_nb\n",
    ")"
   ]
  },
  {
   "cell_type": "code",
   "execution_count": 7,
   "id": "d9c59eb2-2ccc-4593-b0e5-a3e76c75121c",
   "metadata": {},
   "outputs": [
    {
     "name": "stdout",
     "output_type": "stream",
     "text": [
      "ComplementNB model accuracy is 85.13%\n",
      "------------------------------------------------\n",
      "Confusion Matrix:\n",
      "       0      1\n",
      "0  16040   2402\n",
      "1   3065  15263\n",
      "------------------------------------------------\n",
      "Classification Report:\n",
      "              precision    recall  f1-score   support\n",
      "\n",
      "    negative       0.84      0.87      0.85     18442\n",
      "    positive       0.86      0.83      0.85     18328\n",
      "\n",
      "    accuracy                           0.85     36770\n",
      "   macro avg       0.85      0.85      0.85     36770\n",
      "weighted avg       0.85      0.85      0.85     36770\n",
      "\n"
     ]
    },
    {
     "data": {
      "text/plain": [
       "(0.851319010062551,\n",
       " array([[16040,  2402],\n",
       "        [ 3065, 15263]], dtype=int64),\n",
       " '              precision    recall  f1-score   support\\n\\n    negative       0.84      0.87      0.85     18442\\n    positive       0.86      0.83      0.85     18328\\n\\n    accuracy                           0.85     36770\\n   macro avg       0.85      0.85      0.85     36770\\nweighted avg       0.85      0.85      0.85     36770\\n')"
      ]
     },
     "execution_count": 7,
     "metadata": {},
     "output_type": "execute_result"
    }
   ],
   "source": [
    "BNB = BernoulliNB()\n",
    "bernoulli_nb = train_model(\n",
    "    count_X_train, \n",
    "    count_y_train, \n",
    "    BNB\n",
    ")\n",
    "\n",
    "test_model(\n",
    "    count_X_test,\n",
    "    count_y_test,\n",
    "    bernoulli_nb\n",
    ")"
   ]
  },
  {
   "cell_type": "markdown",
   "id": "45e70660-443e-4cf3-95e2-ba925224c79a",
   "metadata": {},
   "source": [
    "## SVM.\n",
    "\n",
    "Support Vector Machine (SVM) is a powerful and versatile supervised machine learning algorithm used for classification and regression tasks. In the context of text sentiment analysis, SVM with a linear kernel is particularly useful. The linear kernel is a dot product between two instances, and it offers a straightforward linear decision boundary. The main idea behind SVM is to find the optimal hyperplane that maximally separates the classes in the feature space. For binary classification, such as positive/negative sentiment analysis, SVM focuses on constructing the hyperplane that has the largest distance to the nearest training data points of any class, which are called support vectors. This margin maximization offers robustness, especially in high-dimensional spaces.\n",
    "\n",
    "*Advantages*:\n",
    "\n",
    "- **Effectiveness in High-Dimensional Spaces**: SVMs are particularly effective in high-dimensional spaces, which is typical in text data due to the large vocabulary size.\n",
    "- **Robustness**: The margin maximization principle helps SVMs to be robust against overfitting, especially in linearly separable cases.\n",
    "- **Scalability**: With linear kernels, SVMs can scale relatively well to large text datasets."
   ]
  },
  {
   "cell_type": "code",
   "execution_count": 8,
   "id": "3218a8a6-373b-4b80-a7b6-918eb5c372df",
   "metadata": {},
   "outputs": [
    {
     "name": "stdout",
     "output_type": "stream",
     "text": [
      "ComplementNB model accuracy is 81.95%\n",
      "------------------------------------------------\n",
      "Confusion Matrix:\n",
      "       0      1\n",
      "0  14943   3499\n",
      "1   3139  15189\n",
      "------------------------------------------------\n",
      "Classification Report:\n",
      "              precision    recall  f1-score   support\n",
      "\n",
      "           0       0.83      0.81      0.82     18442\n",
      "           1       0.81      0.83      0.82     18328\n",
      "\n",
      "    accuracy                           0.82     36770\n",
      "   macro avg       0.82      0.82      0.82     36770\n",
      "weighted avg       0.82      0.82      0.82     36770\n",
      "\n"
     ]
    }
   ],
   "source": [
    "scaler = StandardScaler(with_mean=False)\n",
    "\n",
    "scaler.fit(count_X_train)\n",
    "\n",
    "norm_count_X_train = scaler.transform(count_X_train)\n",
    "norm_count_X_test = scaler.transform(count_X_test)\n",
    "norm_count_y_train = count_y_train.apply(lambda x: 1 if x == 'positive' else 0)\n",
    "norm_count_y_test = count_y_test.apply(lambda x: 1 if x == 'positive' else 0)\n",
    "\n",
    "SVM = svm.SVC(kernel='linear')\n",
    "SVM = train_model(\n",
    "    norm_count_X_train,\n",
    "    norm_count_y_train,\n",
    "    SVM\n",
    ")\n",
    "\n",
    "svm_results = test_model(\n",
    "    norm_count_X_test,\n",
    "    norm_count_y_test,\n",
    "    SVM\n",
    ")"
   ]
  },
  {
   "cell_type": "markdown",
   "id": "395ed026-a994-4df1-8dbc-5c877b8da62b",
   "metadata": {},
   "source": [
    "## Logistic Regression.\n",
    "\n",
    "Logistic Regression is a statistical model that in its basic form uses a logistic function to model a binary dependent variable. In the context of sentiment analysis, the probabilities describing the possible outcomes of a single trial are modeled as a function of the predictor variables (text features). Logistic regression measures the relationship between the categorical dependent variable and one or more independent variables by estimating probabilities using a logistic function, which is an S-shaped curve that can take any real-valued number and map it into a value between 0 and 1, but never exactly at those limits.\n",
    "\n",
    "*Advantages*:\n",
    "\n",
    "- **Interpretability**: Unlike more complex models, logistic regression models have the advantage of being interpretable. Each feature’s weights indicate the importance and influence on the sentiment classification.\n",
    "- **Efficiency**: Logistic regression is less computationally intensive than more complex algorithms, making it a relatively fast model to train.\n",
    "- **Probabilistic** Interpretation: The model outputs a probability for the sentiment class, which can be a useful measure of confidence in the classification."
   ]
  },
  {
   "cell_type": "code",
   "execution_count": 9,
   "id": "b61e4a56-2461-4c8d-97c5-e450e6c4f568",
   "metadata": {},
   "outputs": [
    {
     "name": "stdout",
     "output_type": "stream",
     "text": [
      "ComplementNB model accuracy is 86.99%\n",
      "------------------------------------------------\n",
      "Confusion Matrix:\n",
      "       0      1\n",
      "0  15806   2636\n",
      "1   2149  16179\n",
      "------------------------------------------------\n",
      "Classification Report:\n",
      "              precision    recall  f1-score   support\n",
      "\n",
      "    negative       0.88      0.86      0.87     18442\n",
      "    positive       0.86      0.88      0.87     18328\n",
      "\n",
      "    accuracy                           0.87     36770\n",
      "   macro avg       0.87      0.87      0.87     36770\n",
      "weighted avg       0.87      0.87      0.87     36770\n",
      "\n"
     ]
    }
   ],
   "source": [
    "LG = LogisticRegression()\n",
    "logistic_regression = train_model(\n",
    "    tfidf_X_train,\n",
    "    tfidf_y_train,\n",
    "    LG\n",
    ")\n",
    "\n",
    "lg_res = test_model(\n",
    "    tfidf_X_test,\n",
    "    tfidf_y_test,\n",
    "    logistic_regression\n",
    ")"
   ]
  },
  {
   "cell_type": "code",
   "execution_count": 10,
   "id": "c36c73a7-279b-4f6b-8abe-9bd3ad1f429e",
   "metadata": {},
   "outputs": [
    {
     "name": "stdout",
     "output_type": "stream",
     "text": [
      "ComplementNB model accuracy is 85.69%\n",
      "------------------------------------------------\n",
      "Confusion Matrix:\n",
      "       0      1\n",
      "0  15694   2748\n",
      "1   2513  15815\n",
      "------------------------------------------------\n",
      "Classification Report:\n",
      "              precision    recall  f1-score   support\n",
      "\n",
      "    negative       0.86      0.85      0.86     18442\n",
      "    positive       0.85      0.86      0.86     18328\n",
      "\n",
      "    accuracy                           0.86     36770\n",
      "   macro avg       0.86      0.86      0.86     36770\n",
      "weighted avg       0.86      0.86      0.86     36770\n",
      "\n"
     ]
    }
   ],
   "source": [
    "LG = LogisticRegression()\n",
    "logistic_regression = train_model(\n",
    "    count_X_train,\n",
    "    count_y_train,\n",
    "    LG\n",
    ")\n",
    "\n",
    "lg_res = test_model(\n",
    "    count_X_test,\n",
    "    count_y_test,\n",
    "    logistic_regression\n",
    ")"
   ]
  },
  {
   "cell_type": "markdown",
   "id": "5cd02793-be38-4c9a-9c61-a8a6117d4bdf",
   "metadata": {},
   "source": [
    "# Models Evaluation."
   ]
  },
  {
   "cell_type": "markdown",
   "id": "82aef055-0007-4176-953e-56aab61f0298",
   "metadata": {},
   "source": [
    "## Confusion matrices."
   ]
  },
  {
   "cell_type": "code",
   "execution_count": 11,
   "id": "5a4997ba-8cf3-4a84-b36c-bc5343506e2a",
   "metadata": {},
   "outputs": [
    {
     "data": {
      "text/plain": [
       "Text(0.5, 1.0, 'Confusion matrix of linear SVM with test data with accuracy 81.95%')"
      ]
     },
     "execution_count": 11,
     "metadata": {},
     "output_type": "execute_result"
    },
    {
     "data": {
      "image/png": "[encoded data removed]",
      "text/plain": [
       "<Figure size 640x480 with 2 Axes>"
      ]
     },
     "metadata": {},
     "output_type": "display_data"
    }
   ],
   "source": [
    "sns.heatmap(svm_results[1], annot=True, fmt='d') \\\n",
    "    .set_title(f'Confusion matrix of linear SVM with test data with accuracy {round(svm_results[0] * 100, 2)}%')"
   ]
  },
  {
   "cell_type": "code",
   "execution_count": 12,
   "id": "d0c295b4-680f-4c4e-b84f-ec200fcbbde7",
   "metadata": {},
   "outputs": [
    {
     "data": {
      "text/plain": [
       "Text(0.5, 1.0, 'Confusion matrix of Bernoulli Naive Bayes with test data  with accuracy 85.13%')"
      ]
     },
     "execution_count": 12,
     "metadata": {},
     "output_type": "execute_result"
    },
    {
     "data": {
      "image/png": "[encoded data removed]",
      "text/plain": [
       "<Figure size 640x480 with 2 Axes>"
      ]
     },
     "metadata": {},
     "output_type": "display_data"
    }
   ],
   "source": [
    "sns.heatmap(bernoulli_res[1], annot=True, fmt='d') \\\n",
    "            .set_title(f'Confusion matrix of Bernoulli Naive Bayes with test data  with accuracy {round(bernoulli_res[0] * 100, 2)}%')"
   ]
  },
  {
   "cell_type": "code",
   "execution_count": 13,
   "id": "5f52d56f-b18c-4551-95cf-8eaf46ae6a14",
   "metadata": {},
   "outputs": [
    {
     "data": {
      "text/plain": [
       "Text(0.5, 1.0, 'Confusion matrix of Logistic Regression with test data with accuracy 85.69%')"
      ]
     },
     "execution_count": 13,
     "metadata": {},
     "output_type": "execute_result"
    },
    {
     "data": {
      "image/png": "[encoded data removed]",
      "text/plain": [
       "<Figure size 640x480 with 2 Axes>"
      ]
     },
     "metadata": {},
     "output_type": "display_data"
    }
   ],
   "source": [
    "sns.heatmap(lg_res[1], annot=True, fmt='d') \\\n",
    "   .set_title(f'Confusion matrix of Logistic Regression with test data with accuracy {round(lg_res[0] * 100, 2)}%')"
   ]
  }
 ],
 "metadata": {
  "kernelspec": {
   "display_name": "Python 3 (ipykernel)",
   "language": "python",
   "name": "python3"
  },
  "language_info": {
   "codemirror_mode": {
    "name": "ipython",
    "version": 3
   },
   "file_extension": ".py",
   "mimetype": "text/x-python",
   "name": "python",
   "nbconvert_exporter": "python",
   "pygments_lexer": "ipython3",
   "version": "3.10.11"
  }
 },
 "nbformat": 4,
 "nbformat_minor": 5
}
